{
 "cells": [
  {
   "cell_type": "markdown",
   "source": [
    "This is a classification model, I am using a fertility dataset collected by WHO in 2010 from 100 volunteers.  I am classify if there was Normal Sperm count or abnormal sperm count giving the features."
   ],
   "metadata": {
    "collapsed": false
   },
   "id": "cd23980efd795b69"
  },
  {
   "cell_type": "code",
   "id": "initial_id",
   "metadata": {
    "collapsed": true,
    "jupyter": {
     "is_executing": true
    }
   },
   "source": [
    "import numpy as np\n",
    "import pandas as pd\n",
    "from sklearn.model_selection import train_test_split"
   ],
   "outputs": [],
   "execution_count": null
  },
  {
   "cell_type": "markdown",
   "source": [
    "For the text import, it has the following information for columns.\n",
    "\n",
    "Season in which the analysis was performed. \t1) winter, 2) spring, 3) Summer, 4) fall. \t(-1, -0.33, 0.33, 1) \n",
    "\n",
    "Age at the time of analysis. \twithin 18-36 \t(0, 1) \n",
    "\n",
    "Childish diseases (ie , chicken pox, measles, mumps, polio)\t1) yes, 2) no. \t(0, 1) \n",
    "\n",
    "Accident or serious trauma \t1) yes, 2) no. \t(0, 1) \n",
    "\n",
    "Surgical intervention \t1) yes, 2) no. \t(0, 1) \n",
    "\n",
    "High fevers in the last year \t1) less than three months ago, 2) more than three months ago, 3) no. \t(-1, 0, 1) \n",
    "\n",
    "Frequency of alcohol consumption \t1) several times a day, 2) every day, 3) several times a week, 4) once a week, 5) hardly ever or never \t(0, 1) \n",
    "\n",
    "Smoking habit \t1) never, 2) occasional 3) daily. \t(-1, 0, 1) \n",
    "\n",
    "Number of hours spent sitting per day \tless or more than 16\t(0, 1) \n",
    "\n",
    "Output: Diagnosis\tnormal (N), altered (O)\t"
   ],
   "metadata": {
    "collapsed": false
   },
   "id": "fcf9bef87db42a27"
  },
  {
   "cell_type": "code",
   "execution_count": 2,
   "outputs": [
    {
     "name": "stdout",
     "output_type": "stream",
     "text": [
      "<class 'pandas.core.frame.DataFrame'>\n",
      "RangeIndex: 100 entries, 0 to 99\n",
      "Data columns (total 10 columns):\n",
      " #   Column         Non-Null Count  Dtype  \n",
      "---  ------         --------------  -----  \n",
      " 0   season         100 non-null    float64\n",
      " 1   age            100 non-null    float64\n",
      " 2   child_disease  100 non-null    int64  \n",
      " 3   accident       100 non-null    int64  \n",
      " 4   surgery        100 non-null    int64  \n",
      " 5   fever          100 non-null    int64  \n",
      " 6   drinking       100 non-null    float64\n",
      " 7   smoking        100 non-null    int64  \n",
      " 8   idle           100 non-null    float64\n",
      " 9   diagnosis      100 non-null    object \n",
      "dtypes: float64(4), int64(5), object(1)\n",
      "memory usage: 7.9+ KB\n"
     ]
    }
   ],
   "source": [
    "Column_names=['season','age','child_disease','accident','surgery','fever','drinking','smoking','idle','diagnosis']\n",
    "fertility=pd.read_csv(\"fertility_Diagnosis.txt\", delimiter=\",\", names=Column_names)\n",
    "fertility.info()"
   ],
   "metadata": {
    "collapsed": false,
    "ExecuteTime": {
     "end_time": "2024-06-27T19:12:29.600516100Z",
     "start_time": "2024-06-27T19:12:29.563317200Z"
    }
   },
   "id": "a26eb01bfad0cb40"
  },
  {
   "cell_type": "markdown",
   "source": [
    "There is no Null value so no need to change."
   ],
   "metadata": {
    "collapsed": false
   },
   "id": "3eb4f2be74189e03"
  },
  {
   "cell_type": "markdown",
   "source": [
    "Changing the output Int object (1 being Normal, and 0 being Abnormal)"
   ],
   "metadata": {
    "collapsed": false
   },
   "id": "540510793364abf4"
  },
  {
   "cell_type": "code",
   "execution_count": 3,
   "outputs": [],
   "source": [
    "fertility['diagnosis']=fertility['diagnosis'].apply(lambda x: 1 if x=='N' else 0)"
   ],
   "metadata": {
    "collapsed": false,
    "ExecuteTime": {
     "end_time": "2024-06-27T19:12:29.606195700Z",
     "start_time": "2024-06-27T19:12:29.601516900Z"
    }
   },
   "id": "9db9a6a520225178"
  },
  {
   "cell_type": "markdown",
   "source": [
    "Spliting Data info Training and Testing"
   ],
   "metadata": {
    "collapsed": false
   },
   "id": "e3be5b7aa9c635ba"
  },
  {
   "cell_type": "code",
   "execution_count": 4,
   "outputs": [],
   "source": [
    "fX = fertility.iloc[:,:-1]\n",
    "fy = fertility['diagnosis']\n",
    "fX_train, fX_test, fy_train, fy_test = train_test_split(fX, fy, test_size=0.35, random_state=5)"
   ],
   "metadata": {
    "collapsed": false,
    "ExecuteTime": {
     "end_time": "2024-06-27T19:12:29.641432800Z",
     "start_time": "2024-06-27T19:12:29.605195100Z"
    }
   },
   "id": "1751751d57886ec5"
  },
  {
   "cell_type": "markdown",
   "source": [],
   "metadata": {
    "collapsed": false
   },
   "id": "e87b3f4399d45c32"
  },
  {
   "cell_type": "code",
   "execution_count": 5,
   "outputs": [
    {
     "data": {
      "text/plain": "KNeighborsClassifier(n_neighbors=3)",
      "text/html": "<style>#sk-container-id-1 {color: black;background-color: white;}#sk-container-id-1 pre{padding: 0;}#sk-container-id-1 div.sk-toggleable {background-color: white;}#sk-container-id-1 label.sk-toggleable__label {cursor: pointer;display: block;width: 100%;margin-bottom: 0;padding: 0.3em;box-sizing: border-box;text-align: center;}#sk-container-id-1 label.sk-toggleable__label-arrow:before {content: \"▸\";float: left;margin-right: 0.25em;color: #696969;}#sk-container-id-1 label.sk-toggleable__label-arrow:hover:before {color: black;}#sk-container-id-1 div.sk-estimator:hover label.sk-toggleable__label-arrow:before {color: black;}#sk-container-id-1 div.sk-toggleable__content {max-height: 0;max-width: 0;overflow: hidden;text-align: left;background-color: #f0f8ff;}#sk-container-id-1 div.sk-toggleable__content pre {margin: 0.2em;color: black;border-radius: 0.25em;background-color: #f0f8ff;}#sk-container-id-1 input.sk-toggleable__control:checked~div.sk-toggleable__content {max-height: 200px;max-width: 100%;overflow: auto;}#sk-container-id-1 input.sk-toggleable__control:checked~label.sk-toggleable__label-arrow:before {content: \"▾\";}#sk-container-id-1 div.sk-estimator input.sk-toggleable__control:checked~label.sk-toggleable__label {background-color: #d4ebff;}#sk-container-id-1 div.sk-label input.sk-toggleable__control:checked~label.sk-toggleable__label {background-color: #d4ebff;}#sk-container-id-1 input.sk-hidden--visually {border: 0;clip: rect(1px 1px 1px 1px);clip: rect(1px, 1px, 1px, 1px);height: 1px;margin: -1px;overflow: hidden;padding: 0;position: absolute;width: 1px;}#sk-container-id-1 div.sk-estimator {font-family: monospace;background-color: #f0f8ff;border: 1px dotted black;border-radius: 0.25em;box-sizing: border-box;margin-bottom: 0.5em;}#sk-container-id-1 div.sk-estimator:hover {background-color: #d4ebff;}#sk-container-id-1 div.sk-parallel-item::after {content: \"\";width: 100%;border-bottom: 1px solid gray;flex-grow: 1;}#sk-container-id-1 div.sk-label:hover label.sk-toggleable__label {background-color: #d4ebff;}#sk-container-id-1 div.sk-serial::before {content: \"\";position: absolute;border-left: 1px solid gray;box-sizing: border-box;top: 0;bottom: 0;left: 50%;z-index: 0;}#sk-container-id-1 div.sk-serial {display: flex;flex-direction: column;align-items: center;background-color: white;padding-right: 0.2em;padding-left: 0.2em;position: relative;}#sk-container-id-1 div.sk-item {position: relative;z-index: 1;}#sk-container-id-1 div.sk-parallel {display: flex;align-items: stretch;justify-content: center;background-color: white;position: relative;}#sk-container-id-1 div.sk-item::before, #sk-container-id-1 div.sk-parallel-item::before {content: \"\";position: absolute;border-left: 1px solid gray;box-sizing: border-box;top: 0;bottom: 0;left: 50%;z-index: -1;}#sk-container-id-1 div.sk-parallel-item {display: flex;flex-direction: column;z-index: 1;position: relative;background-color: white;}#sk-container-id-1 div.sk-parallel-item:first-child::after {align-self: flex-end;width: 50%;}#sk-container-id-1 div.sk-parallel-item:last-child::after {align-self: flex-start;width: 50%;}#sk-container-id-1 div.sk-parallel-item:only-child::after {width: 0;}#sk-container-id-1 div.sk-dashed-wrapped {border: 1px dashed gray;margin: 0 0.4em 0.5em 0.4em;box-sizing: border-box;padding-bottom: 0.4em;background-color: white;}#sk-container-id-1 div.sk-label label {font-family: monospace;font-weight: bold;display: inline-block;line-height: 1.2em;}#sk-container-id-1 div.sk-label-container {text-align: center;}#sk-container-id-1 div.sk-container {/* jupyter's `normalize.less` sets `[hidden] { display: none; }` but bootstrap.min.css set `[hidden] { display: none !important; }` so we also need the `!important` here to be able to override the default hidden behavior on the sphinx rendered scikit-learn.org. See: https://github.com/scikit-learn/scikit-learn/issues/21755 */display: inline-block !important;position: relative;}#sk-container-id-1 div.sk-text-repr-fallback {display: none;}</style><div id=\"sk-container-id-1\" class=\"sk-top-container\"><div class=\"sk-text-repr-fallback\"><pre>KNeighborsClassifier(n_neighbors=3)</pre><b>In a Jupyter environment, please rerun this cell to show the HTML representation or trust the notebook. <br />On GitHub, the HTML representation is unable to render, please try loading this page with nbviewer.org.</b></div><div class=\"sk-container\" hidden><div class=\"sk-item\"><div class=\"sk-estimator sk-toggleable\"><input class=\"sk-toggleable__control sk-hidden--visually\" id=\"sk-estimator-id-1\" type=\"checkbox\" checked><label for=\"sk-estimator-id-1\" class=\"sk-toggleable__label sk-toggleable__label-arrow\">KNeighborsClassifier</label><div class=\"sk-toggleable__content\"><pre>KNeighborsClassifier(n_neighbors=3)</pre></div></div></div></div></div>"
     },
     "execution_count": 5,
     "metadata": {},
     "output_type": "execute_result"
    }
   ],
   "source": [
    "from sklearn.neighbors import KNeighborsClassifier\n",
    "from sklearn.preprocessing import StandardScaler\n",
    "from sklearn.metrics import classification_report, confusion_matrix\n",
    "scaler = StandardScaler()\n",
    "scaler.fit(fX_train)\n",
    "fX_train=scaler.transform(fX_train)\n",
    "fX_test=scaler.transform(fX_test)\n",
    "model_fert_KNN = KNeighborsClassifier(n_neighbors=3)\n",
    "model_fert_KNN.fit(fX_train, fy_train)"
   ],
   "metadata": {
    "collapsed": false,
    "ExecuteTime": {
     "end_time": "2024-06-27T19:12:29.741142Z",
     "start_time": "2024-06-27T19:12:29.626432800Z"
    }
   },
   "id": "eb8b97effcf58457"
  },
  {
   "cell_type": "code",
   "execution_count": 6,
   "outputs": [
    {
     "name": "stdout",
     "output_type": "stream",
     "text": [
      "[[ 0  4]\n",
      " [ 0 31]]\n",
      "              precision    recall  f1-score   support\n",
      "\n",
      "           0       0.00      0.00      0.00         4\n",
      "           1       0.89      1.00      0.94        31\n",
      "\n",
      "    accuracy                           0.89        35\n",
      "   macro avg       0.44      0.50      0.47        35\n",
      "weighted avg       0.78      0.89      0.83        35\n"
     ]
    },
    {
     "name": "stderr",
     "output_type": "stream",
     "text": [
      "C:\\Users\\Xi\\miniconda3\\envs\\ml_lab1\\Lib\\site-packages\\sklearn\\metrics\\_classification.py:1344: UndefinedMetricWarning: Precision and F-score are ill-defined and being set to 0.0 in labels with no predicted samples. Use `zero_division` parameter to control this behavior.\n",
      "  _warn_prf(average, modifier, msg_start, len(result))\n",
      "C:\\Users\\Xi\\miniconda3\\envs\\ml_lab1\\Lib\\site-packages\\sklearn\\metrics\\_classification.py:1344: UndefinedMetricWarning: Precision and F-score are ill-defined and being set to 0.0 in labels with no predicted samples. Use `zero_division` parameter to control this behavior.\n",
      "  _warn_prf(average, modifier, msg_start, len(result))\n",
      "C:\\Users\\Xi\\miniconda3\\envs\\ml_lab1\\Lib\\site-packages\\sklearn\\metrics\\_classification.py:1344: UndefinedMetricWarning: Precision and F-score are ill-defined and being set to 0.0 in labels with no predicted samples. Use `zero_division` parameter to control this behavior.\n",
      "  _warn_prf(average, modifier, msg_start, len(result))\n"
     ]
    }
   ],
   "source": [
    "fy_pred=model_fert_KNN.predict(fX_test)\n",
    "print(confusion_matrix(fy_test, fy_pred))\n",
    "print(classification_report(fy_test, fy_pred))"
   ],
   "metadata": {
    "collapsed": false,
    "ExecuteTime": {
     "end_time": "2024-06-27T19:12:29.761031500Z",
     "start_time": "2024-06-27T19:12:29.740140Z"
    }
   },
   "id": "fd790cfeaf4ad72"
  },
  {
   "metadata": {},
   "cell_type": "markdown",
   "source": "Finding the sample bias and upsample Abnormal data sample, then added to data.",
   "id": "a2e8dd9326909acb"
  },
  {
   "cell_type": "code",
   "execution_count": 7,
   "outputs": [
    {
     "name": "stdout",
     "output_type": "stream",
     "text": [
      "diagnosis\n",
      "1    88\n",
      "0    88\n",
      "Name: count, dtype: int64\n"
     ]
    }
   ],
   "source": [
    "from sklearn.utils import resample\n",
    "fertility_majority=fertility[fertility['diagnosis']==1]\n",
    "fertility_minority=fertility[fertility['diagnosis']==0]\n",
    "\n",
    "# Upsample minority class\n",
    "df_minority_upsampled = resample(fertility_minority, replace=True, n_samples=len(fertility_majority), random_state=2)\n",
    "\n",
    "# Combine majority class with upsampled minority class\n",
    "fertility_upsampled = pd.concat([fertility_majority, df_minority_upsampled])\n",
    "\n",
    "# Display new class counts\n",
    "print(fertility_upsampled.diagnosis.value_counts())"
   ],
   "metadata": {
    "collapsed": false,
    "ExecuteTime": {
     "end_time": "2024-06-27T19:12:29.787640Z",
     "start_time": "2024-06-27T19:12:29.760035900Z"
    }
   },
   "id": "de7f99216ede3dd4"
  },
  {
   "metadata": {},
   "cell_type": "markdown",
   "source": "Resample the training and testing data with the upscaled data.",
   "id": "2c5016b1d30180a3"
  },
  {
   "cell_type": "code",
   "execution_count": 8,
   "outputs": [],
   "source": [
    "fX_up = fertility_upsampled.iloc[:,:-1]\n",
    "fy_up = fertility_upsampled['diagnosis']\n",
    "fX_up_train, fX_up_test, fy_up_train, fy_up_test = train_test_split(fX_up, fy_up, test_size=0.35, random_state=5)"
   ],
   "metadata": {
    "collapsed": false,
    "ExecuteTime": {
     "end_time": "2024-06-27T19:12:29.788640700Z",
     "start_time": "2024-06-27T19:12:29.769736300Z"
    }
   },
   "id": "616c30e96f62cc06"
  },
  {
   "metadata": {},
   "cell_type": "markdown",
   "source": "Scaler the training data and train using KNN",
   "id": "1d72b3bb98662667"
  },
  {
   "cell_type": "code",
   "execution_count": 9,
   "outputs": [
    {
     "data": {
      "text/plain": "KNeighborsClassifier()",
      "text/html": "<style>#sk-container-id-2 {color: black;background-color: white;}#sk-container-id-2 pre{padding: 0;}#sk-container-id-2 div.sk-toggleable {background-color: white;}#sk-container-id-2 label.sk-toggleable__label {cursor: pointer;display: block;width: 100%;margin-bottom: 0;padding: 0.3em;box-sizing: border-box;text-align: center;}#sk-container-id-2 label.sk-toggleable__label-arrow:before {content: \"▸\";float: left;margin-right: 0.25em;color: #696969;}#sk-container-id-2 label.sk-toggleable__label-arrow:hover:before {color: black;}#sk-container-id-2 div.sk-estimator:hover label.sk-toggleable__label-arrow:before {color: black;}#sk-container-id-2 div.sk-toggleable__content {max-height: 0;max-width: 0;overflow: hidden;text-align: left;background-color: #f0f8ff;}#sk-container-id-2 div.sk-toggleable__content pre {margin: 0.2em;color: black;border-radius: 0.25em;background-color: #f0f8ff;}#sk-container-id-2 input.sk-toggleable__control:checked~div.sk-toggleable__content {max-height: 200px;max-width: 100%;overflow: auto;}#sk-container-id-2 input.sk-toggleable__control:checked~label.sk-toggleable__label-arrow:before {content: \"▾\";}#sk-container-id-2 div.sk-estimator input.sk-toggleable__control:checked~label.sk-toggleable__label {background-color: #d4ebff;}#sk-container-id-2 div.sk-label input.sk-toggleable__control:checked~label.sk-toggleable__label {background-color: #d4ebff;}#sk-container-id-2 input.sk-hidden--visually {border: 0;clip: rect(1px 1px 1px 1px);clip: rect(1px, 1px, 1px, 1px);height: 1px;margin: -1px;overflow: hidden;padding: 0;position: absolute;width: 1px;}#sk-container-id-2 div.sk-estimator {font-family: monospace;background-color: #f0f8ff;border: 1px dotted black;border-radius: 0.25em;box-sizing: border-box;margin-bottom: 0.5em;}#sk-container-id-2 div.sk-estimator:hover {background-color: #d4ebff;}#sk-container-id-2 div.sk-parallel-item::after {content: \"\";width: 100%;border-bottom: 1px solid gray;flex-grow: 1;}#sk-container-id-2 div.sk-label:hover label.sk-toggleable__label {background-color: #d4ebff;}#sk-container-id-2 div.sk-serial::before {content: \"\";position: absolute;border-left: 1px solid gray;box-sizing: border-box;top: 0;bottom: 0;left: 50%;z-index: 0;}#sk-container-id-2 div.sk-serial {display: flex;flex-direction: column;align-items: center;background-color: white;padding-right: 0.2em;padding-left: 0.2em;position: relative;}#sk-container-id-2 div.sk-item {position: relative;z-index: 1;}#sk-container-id-2 div.sk-parallel {display: flex;align-items: stretch;justify-content: center;background-color: white;position: relative;}#sk-container-id-2 div.sk-item::before, #sk-container-id-2 div.sk-parallel-item::before {content: \"\";position: absolute;border-left: 1px solid gray;box-sizing: border-box;top: 0;bottom: 0;left: 50%;z-index: -1;}#sk-container-id-2 div.sk-parallel-item {display: flex;flex-direction: column;z-index: 1;position: relative;background-color: white;}#sk-container-id-2 div.sk-parallel-item:first-child::after {align-self: flex-end;width: 50%;}#sk-container-id-2 div.sk-parallel-item:last-child::after {align-self: flex-start;width: 50%;}#sk-container-id-2 div.sk-parallel-item:only-child::after {width: 0;}#sk-container-id-2 div.sk-dashed-wrapped {border: 1px dashed gray;margin: 0 0.4em 0.5em 0.4em;box-sizing: border-box;padding-bottom: 0.4em;background-color: white;}#sk-container-id-2 div.sk-label label {font-family: monospace;font-weight: bold;display: inline-block;line-height: 1.2em;}#sk-container-id-2 div.sk-label-container {text-align: center;}#sk-container-id-2 div.sk-container {/* jupyter's `normalize.less` sets `[hidden] { display: none; }` but bootstrap.min.css set `[hidden] { display: none !important; }` so we also need the `!important` here to be able to override the default hidden behavior on the sphinx rendered scikit-learn.org. See: https://github.com/scikit-learn/scikit-learn/issues/21755 */display: inline-block !important;position: relative;}#sk-container-id-2 div.sk-text-repr-fallback {display: none;}</style><div id=\"sk-container-id-2\" class=\"sk-top-container\"><div class=\"sk-text-repr-fallback\"><pre>KNeighborsClassifier()</pre><b>In a Jupyter environment, please rerun this cell to show the HTML representation or trust the notebook. <br />On GitHub, the HTML representation is unable to render, please try loading this page with nbviewer.org.</b></div><div class=\"sk-container\" hidden><div class=\"sk-item\"><div class=\"sk-estimator sk-toggleable\"><input class=\"sk-toggleable__control sk-hidden--visually\" id=\"sk-estimator-id-2\" type=\"checkbox\" checked><label for=\"sk-estimator-id-2\" class=\"sk-toggleable__label sk-toggleable__label-arrow\">KNeighborsClassifier</label><div class=\"sk-toggleable__content\"><pre>KNeighborsClassifier()</pre></div></div></div></div></div>"
     },
     "execution_count": 9,
     "metadata": {},
     "output_type": "execute_result"
    }
   ],
   "source": [
    "scaler = StandardScaler()\n",
    "scaler.fit(fX_up_train)\n",
    "fX_up_train=scaler.transform(fX_up_train)\n",
    "fX_up_test=scaler.transform(fX_up_test)\n",
    "model_fert_KNN = KNeighborsClassifier(n_neighbors=5)\n",
    "model_fert_KNN.fit(fX_up_train, fy_up_train)"
   ],
   "metadata": {
    "collapsed": false,
    "ExecuteTime": {
     "end_time": "2024-06-27T19:12:29.824118Z",
     "start_time": "2024-06-27T19:12:29.777642500Z"
    }
   },
   "id": "4b571a611538a24d"
  },
  {
   "metadata": {},
   "cell_type": "markdown",
   "source": "Doing Random Forest data using Original Data and finding accuracy information",
   "id": "48258977ec41b5d0"
  },
  {
   "cell_type": "code",
   "execution_count": 11,
   "outputs": [
    {
     "name": "stdout",
     "output_type": "stream",
     "text": [
      "Accuracy: 0.8857142857142857\n",
      "[[ 0  4]\n",
      " [ 0 31]]\n",
      "              precision    recall  f1-score   support\n",
      "\n",
      "           0       0.00      0.00      0.00         4\n",
      "           1       0.89      1.00      0.94        31\n",
      "\n",
      "    accuracy                           0.89        35\n",
      "   macro avg       0.44      0.50      0.47        35\n",
      "weighted avg       0.78      0.89      0.83        35\n"
     ]
    },
    {
     "name": "stderr",
     "output_type": "stream",
     "text": [
      "C:\\Users\\Xi\\miniconda3\\envs\\ml_lab1\\Lib\\site-packages\\sklearn\\metrics\\_classification.py:1344: UndefinedMetricWarning: Precision and F-score are ill-defined and being set to 0.0 in labels with no predicted samples. Use `zero_division` parameter to control this behavior.\n",
      "  _warn_prf(average, modifier, msg_start, len(result))\n",
      "C:\\Users\\Xi\\miniconda3\\envs\\ml_lab1\\Lib\\site-packages\\sklearn\\metrics\\_classification.py:1344: UndefinedMetricWarning: Precision and F-score are ill-defined and being set to 0.0 in labels with no predicted samples. Use `zero_division` parameter to control this behavior.\n",
      "  _warn_prf(average, modifier, msg_start, len(result))\n",
      "C:\\Users\\Xi\\miniconda3\\envs\\ml_lab1\\Lib\\site-packages\\sklearn\\metrics\\_classification.py:1344: UndefinedMetricWarning: Precision and F-score are ill-defined and being set to 0.0 in labels with no predicted samples. Use `zero_division` parameter to control this behavior.\n",
      "  _warn_prf(average, modifier, msg_start, len(result))\n"
     ]
    }
   ],
   "source": [
    "from sklearn.ensemble import RandomForestClassifier\n",
    "\n",
    "# create a RandomForestClassifier\n",
    "model_fert_clf = RandomForestClassifier(n_estimators=100)\n",
    "\n",
    "# train the model\n",
    "model_fert_clf.fit(fX_train, fy_train)\n",
    "\n",
    "# make predictions\n",
    "fy_clf_pred = model_fert_clf.predict(fX_test)\n",
    "\n",
    "# print the model accuracy\n",
    "print(\"Accuracy:\", sum(fy_clf_pred == fy_test) / len(fy_test))\n",
    "print(confusion_matrix(fy_test, fy_clf_pred))\n",
    "print(classification_report(fy_test, fy_clf_pred))"
   ],
   "metadata": {
    "collapsed": false,
    "ExecuteTime": {
     "end_time": "2024-06-27T19:13:39.053420100Z",
     "start_time": "2024-06-27T19:13:38.873694800Z"
    }
   },
   "id": "d19a28ee4c9691a2"
  },
  {
   "metadata": {},
   "cell_type": "markdown",
   "source": "Since the model is obviously having a bias result, using the upsampled training and testing data to train using RandomForest again",
   "id": "7dcd0fd2b3c15cc9"
  },
  {
   "cell_type": "code",
   "execution_count": 12,
   "outputs": [
    {
     "name": "stdout",
     "output_type": "stream",
     "text": [
      "Accuracy: 0.9714285714285714\n",
      "[[ 4  0]\n",
      " [ 1 30]]\n",
      "              precision    recall  f1-score   support\n",
      "\n",
      "           0       0.80      1.00      0.89         4\n",
      "           1       1.00      0.97      0.98        31\n",
      "\n",
      "    accuracy                           0.97        35\n",
      "   macro avg       0.90      0.98      0.94        35\n",
      "weighted avg       0.98      0.97      0.97        35\n"
     ]
    }
   ],
   "source": [
    "model_fert_clf = RandomForestClassifier(n_estimators=100)\n",
    "\n",
    "# train the model\n",
    "model_fert_clf.fit(fX_up_train, fy_up_train)\n",
    "\n",
    "# make predictions\n",
    "fy_clf_pred = model_fert_clf.predict(fX_test)\n",
    "\n",
    "# print the model accuracy\n",
    "print(\"Accuracy:\", sum(fy_clf_pred == fy_test) / len(fy_test))\n",
    "print(confusion_matrix(fy_test, fy_clf_pred))\n",
    "print(classification_report(fy_test, fy_clf_pred))"
   ],
   "metadata": {
    "collapsed": false,
    "ExecuteTime": {
     "end_time": "2024-06-27T19:13:43.080607200Z",
     "start_time": "2024-06-27T19:13:43.001413800Z"
    }
   },
   "id": "df41bf034d36f710"
  },
  {
   "metadata": {},
   "cell_type": "markdown",
   "source": "It has very respected accuracy of 0.97 percent.  We will then pickle the model and save it.",
   "id": "2b7194f84713ca90"
  },
  {
   "cell_type": "code",
   "execution_count": 14,
   "outputs": [
    {
     "data": {
      "text/plain": "['model_fert_clf.pkl']"
     },
     "execution_count": 14,
     "metadata": {},
     "output_type": "execute_result"
    }
   ],
   "source": [
    "from joblib import dump, load\n",
    "\n",
    "# Save the model as a pickle file\n",
    "dump(model_fert_clf, 'model_fert_clf.pkl')"
   ],
   "metadata": {
    "collapsed": false,
    "ExecuteTime": {
     "end_time": "2024-06-27T19:17:02.725371700Z",
     "start_time": "2024-06-27T19:17:02.696062300Z"
    }
   },
   "id": "3dbfa145837b9cac"
  },
  {
   "cell_type": "markdown",
   "source": [
    "Citation: Gil,David and Girela,Jose. (2013). Fertility. UCI Machine Learning Repository. https://doi.org/10.24432/C5Z01Z."
   ],
   "metadata": {
    "collapsed": false
   },
   "id": "b4cd890827b9a47c"
  },
  {
   "cell_type": "code",
   "execution_count": null,
   "outputs": [],
   "source": [],
   "metadata": {
    "collapsed": false
   },
   "id": "10d83eb79316633e"
  }
 ],
 "metadata": {
  "kernelspec": {
   "display_name": "Python 3",
   "language": "python",
   "name": "python3"
  },
  "language_info": {
   "codemirror_mode": {
    "name": "ipython",
    "version": 2
   },
   "file_extension": ".py",
   "mimetype": "text/x-python",
   "name": "python",
   "nbconvert_exporter": "python",
   "pygments_lexer": "ipython2",
   "version": "2.7.6"
  }
 },
 "nbformat": 4,
 "nbformat_minor": 5
}
